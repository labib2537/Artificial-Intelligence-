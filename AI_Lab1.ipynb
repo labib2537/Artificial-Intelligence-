{
  "nbformat": 4,
  "nbformat_minor": 0,
  "metadata": {
    "colab": {
      "name": "AI_Lab1.ipynb",
      "provenance": [],
      "authorship_tag": "ABX9TyMHvJYRz8X3XhHzd73POyTq",
      "include_colab_link": true
    },
    "kernelspec": {
      "name": "python3",
      "display_name": "Python 3"
    }
  },
  "cells": [
    {
      "cell_type": "markdown",
      "metadata": {
        "id": "view-in-github",
        "colab_type": "text"
      },
      "source": [
        "<a href=\"https://colab.research.google.com/github/labib2537/Artificial-Intelligence-/blob/main/AI_Lab1.ipynb\" target=\"_parent\"><img src=\"https://colab.research.google.com/assets/colab-badge.svg\" alt=\"Open In Colab\"/></a>"
      ]
    },
    {
      "cell_type": "code",
      "metadata": {
        "colab": {
          "base_uri": "https://localhost:8080/"
        },
        "id": "Wj6UJeG01LGB",
        "outputId": "05c9e04b-7fe1-42c0-dcb3-02c5e19e4ff9"
      },
      "source": [
        "print(\"Hello Labib\")"
      ],
      "execution_count": null,
      "outputs": [
        {
          "output_type": "stream",
          "text": [
            "Hello Labib\n"
          ],
          "name": "stdout"
        }
      ]
    },
    {
      "cell_type": "code",
      "metadata": {
        "colab": {
          "base_uri": "https://localhost:8080/"
        },
        "id": "cSgqw8If1u-Q",
        "outputId": "02b5fb56-0b5d-439e-8317-3e79635d9ded"
      },
      "source": [
        "list = [1,5,11,15,21,25]\r\n",
        "print(list)"
      ],
      "execution_count": 2,
      "outputs": [
        {
          "output_type": "stream",
          "text": [
            "[1, 5, 11, 15, 21, 25]\n"
          ],
          "name": "stdout"
        }
      ]
    },
    {
      "cell_type": "code",
      "metadata": {
        "colab": {
          "base_uri": "https://localhost:8080/"
        },
        "id": "0eGB7XTl14xm",
        "outputId": "07a0c8b9-eeb2-4575-f232-561f58fae8d1"
      },
      "source": [
        "#dictionary\r\n",
        "d = {\"Farhan\" : 500, \"Taseen\" : 600}\r\n",
        "print(d)"
      ],
      "execution_count": 5,
      "outputs": [
        {
          "output_type": "stream",
          "text": [
            "{'Farhan': 500, 'Taseen': 600}\n"
          ],
          "name": "stdout"
        }
      ]
    },
    {
      "cell_type": "code",
      "metadata": {
        "colab": {
          "base_uri": "https://localhost:8080/"
        },
        "id": "OcO-SHA-26j5",
        "outputId": "be5de087-d6d4-421e-c0ac-576576ddfbc0"
      },
      "source": [
        "n = 10\r\n",
        "if n==10:\r\n",
        "  print(\"I have 10 Taka\")\r\n",
        "elif n>10:\r\n",
        "  print(\"I have more than 10 TaKa\") \r\n",
        "else:\r\n",
        "  print(\"I have less than 10 Taka\")   "
      ],
      "execution_count": 6,
      "outputs": [
        {
          "output_type": "stream",
          "text": [
            "I have 10 Taka\n"
          ],
          "name": "stdout"
        }
      ]
    },
    {
      "cell_type": "code",
      "metadata": {
        "colab": {
          "base_uri": "https://localhost:8080/"
        },
        "id": "3O9X71Nz2WRs",
        "outputId": "a21de846-8436-4176-91e2-4910376a1dc6"
      },
      "source": [
        "f = 1.25\r\n",
        "i = 55\r\n",
        "print(\"integer is %s and float is %s.\" %(i,f))"
      ],
      "execution_count": 4,
      "outputs": [
        {
          "output_type": "stream",
          "text": [
            "integer is 55 and float is 1.25.\n"
          ],
          "name": "stdout"
        }
      ]
    },
    {
      "cell_type": "code",
      "metadata": {
        "id": "FkjiAgQe3vbG"
      },
      "source": [
        "#Loops\r\n",
        "myList = [2,22,36,48,54]"
      ],
      "execution_count": 8,
      "outputs": []
    },
    {
      "cell_type": "code",
      "metadata": {
        "colab": {
          "base_uri": "https://localhost:8080/"
        },
        "id": "3xQdDhh24Kez",
        "outputId": "a5d9f261-9879-43c7-c578-0555241f09b7"
      },
      "source": [
        "for value in myList:\r\n",
        "  print(value)"
      ],
      "execution_count": 9,
      "outputs": [
        {
          "output_type": "stream",
          "text": [
            "2\n",
            "22\n",
            "36\n",
            "48\n",
            "54\n"
          ],
          "name": "stdout"
        }
      ]
    },
    {
      "cell_type": "code",
      "metadata": {
        "colab": {
          "base_uri": "https://localhost:8080/"
        },
        "id": "iOBwflCs4gZy",
        "outputId": "ff9edb4a-93b6-4c0d-d5fe-35d5e4ca6751"
      },
      "source": [
        "i = 1\r\n",
        "while i<=10:\r\n",
        "  print(i)\r\n",
        "  i = i + 1 "
      ],
      "execution_count": 10,
      "outputs": [
        {
          "output_type": "stream",
          "text": [
            "1\n",
            "2\n",
            "3\n",
            "4\n",
            "5\n",
            "6\n",
            "7\n",
            "8\n",
            "9\n",
            "10\n"
          ],
          "name": "stdout"
        }
      ]
    },
    {
      "cell_type": "code",
      "metadata": {
        "id": "_pq96edI5dgl"
      },
      "source": [
        "#function\r\n",
        "def division(x,y):\r\n",
        "  z = x/y\r\n",
        "  return z"
      ],
      "execution_count": 11,
      "outputs": []
    },
    {
      "cell_type": "code",
      "metadata": {
        "colab": {
          "base_uri": "https://localhost:8080/"
        },
        "id": "7c-sXx86531z",
        "outputId": "54a072ca-2d57-4886-9fba-c62afb5a3af1"
      },
      "source": [
        "a = 15\r\n",
        "b = 7\r\n",
        "print(division(a,b))"
      ],
      "execution_count": 12,
      "outputs": [
        {
          "output_type": "stream",
          "text": [
            "2.142857142857143\n"
          ],
          "name": "stdout"
        }
      ]
    },
    {
      "cell_type": "code",
      "metadata": {
        "colab": {
          "base_uri": "https://localhost:8080/"
        },
        "id": "RWeUTHXB6Jub",
        "outputId": "592d7c5e-666a-4bd0-8ac2-6b324ba8e1d0"
      },
      "source": [
        "#Built in method\r\n",
        "l = [2,3,4,5,6,7,8,9]\r\n",
        "l.pop()\r\n",
        "l.remove(5)\r\n",
        "print(l)"
      ],
      "execution_count": 13,
      "outputs": [
        {
          "output_type": "stream",
          "text": [
            "[2, 3, 4, 6, 7, 8]\n"
          ],
          "name": "stdout"
        }
      ]
    }
  ]
}